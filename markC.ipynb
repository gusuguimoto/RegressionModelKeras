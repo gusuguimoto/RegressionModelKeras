{
 "cells": [
  {
   "attachments": {},
   "cell_type": "markdown",
   "id": "d0279334",
   "metadata": {},
   "source": [
    "C. Increate the number of epochs (5 marks)\n",
    "\n",
    "Repeat Part B but use 100 epochs this time for training.\n"
   ]
  },
  {
   "cell_type": "code",
   "execution_count": null,
   "id": "d0f74f23-0a6e-4bb9-b9bd-f33a692a08d1",
   "metadata": {},
   "outputs": [],
   "source": [
    "#Importing all the necessary libraries\n",
    "import keras\n",
    "import pandas as pd\n",
    "import numpy as np\n",
    "import sklearn"
   ]
  },
  {
   "cell_type": "code",
   "execution_count": null,
   "id": "86cfffb8-dfb9-44af-a840-46b3d21c05bf",
   "metadata": {},
   "outputs": [],
   "source": [
    "#Import the packages from Keras and SciKit-Learn, that will be used in the model.\n",
    "from keras.models import Sequential\n",
    "from keras.layers import Dense\n",
    "from sklearn.model_selection import train_test_split"
   ]
  },
  {
   "cell_type": "code",
   "execution_count": null,
   "id": "3384baa3-cc68-4b4d-9106-5e33366f516c",
   "metadata": {},
   "outputs": [],
   "source": [
    "#Get the dataset.\n",
    "concrete_data = pd.read_csv('https://s3-api.us-geo.objectstorage.softlayer.net/cf-courses-data/CognitiveClass/DL0101EN/labs/data/concrete_data.csv')\n",
    "#Separate in columns of the dataset.\n",
    "concrete_data_columns = concrete_data.columns"
   ]
  },
  {
   "cell_type": "code",
   "execution_count": null,
   "id": "2b57213a-30c0-44bc-a5f8-d21e6db01919",
   "metadata": {},
   "outputs": [],
   "source": [
    "#Separate the target variable and the predictors.\n",
    "predictor = concrete_data[concrete_data_columns[concrete_data_columns != 'Strength']]\n",
    "target = concrete_data['Strength']\n",
    "#Normalize the data\n",
    "p_normal = (predictor - predictor.mean()) / predictor.std()\n",
    "#Save the number of predictors.\n",
    "n_cols = p_normal.shape[1]"
   ]
  },
  {
   "cell_type": "code",
   "execution_count": null,
   "id": "98a355aa-ed55-4399-a469-3f517baf1adf",
   "metadata": {},
   "outputs": [],
   "source": [
    "#Defines the model\n",
    "def regression_modelC():\n",
    "    #Creates the model\n",
    "    modelC = Sequential()\n",
    "    modelC.add(Dense(10, activation='relu', input_shape=(n_cols,)))\n",
    "    modelC.add(Dense(1))\n",
    "    #Compile the model\n",
    "    modelC.compile(optimizer='adam', loss='mean_squared_error')\n",
    "    modelC.fit(predictor, target, epochs=100)\n",
    "    return modelC"
   ]
  },
  {
   "cell_type": "code",
   "execution_count": null,
   "id": "0643315b-99d1-45a9-a691-bc9d164667e6",
   "metadata": {},
   "outputs": [],
   "source": [
    "#Creates a list to agroup the Mean Squared Errors\n",
    "list_mse = []\n",
    "modelC = regression_modelC()\n",
    "for i in range(100):\n",
    "    #Split the data in training and testing sets, spliting 30% for testing. \n",
    "    X_train, X_test, y_train, y_test = train_test_split(predictor, target, test_size=0.3)\n",
    "    #Train and test the model, but this time, using 100 instead of 50 epochs\n",
    "    results = modelC.fit(X_train, y_train, epochs=100, verbose=0, validation_data=(X_test, y_test))\n",
    "    #Atribute the results to a variable\n",
    "    mse = results.history['val_loss'][-1]\n",
    "    #Assing the variable to the list\n",
    "    list_mse.append(mse)\n",
    "    #Print the results\n",
    "    print('Epoch Number {}/100\\nMSE Value {}'.format(i+1, mse))\n",
    "    print('The Mean of the MSE: {}'.format(np.mean(list_mse)))\n",
    "    print('The Standart Deviation of the MSE: {}'.format(np.std(list_mse)))"
   ]
  },
  {
   "attachments": {},
   "cell_type": "markdown",
   "id": "aa224a00",
   "metadata": {},
   "source": [
    "How does the mean of the mean squared errors compare to that from Step B?\n",
    "\n",
    "A: In comparison to Step B, the mean of MSE for the Step C is a little bit smaller."
   ]
  }
 ],
 "metadata": {
  "kernelspec": {
   "display_name": "Python",
   "language": "python",
   "name": "conda-env-python-py"
  },
  "language_info": {
   "codemirror_mode": {
    "name": "ipython",
    "version": 3
   },
   "file_extension": ".py",
   "mimetype": "text/x-python",
   "name": "python",
   "nbconvert_exporter": "python",
   "pygments_lexer": "ipython3",
   "version": "3.7.12"
  }
 },
 "nbformat": 4,
 "nbformat_minor": 5
}
