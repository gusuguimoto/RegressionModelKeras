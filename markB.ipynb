{
 "cells": [
  {
   "attachments": {},
   "cell_type": "markdown",
   "id": "1210a766",
   "metadata": {},
   "source": [
    "B. Normalize the data (5 marks) \n",
    "\n",
    "Repeat Part A but use a normalized version of the data. Recall that one way to normalize the data is by subtracting the mean from the individual predictors and dividing by the standard deviation.\n"
   ]
  },
  {
   "cell_type": "code",
   "execution_count": null,
   "id": "087cc342-20e4-403e-9432-34b65e885511",
   "metadata": {},
   "outputs": [],
   "source": [
    "#Importing all the necessary libraries\n",
    "import keras\n",
    "import pandas as pd\n",
    "import numpy as np\n",
    "import sklearn"
   ]
  },
  {
   "cell_type": "code",
   "execution_count": null,
   "id": "18e3a32b-ca79-4013-b80c-ec4f96a5fabc",
   "metadata": {},
   "outputs": [],
   "source": [
    "#Import the packages from Keras and SciKit-Learn, that will be used in the model.\n",
    "from keras.models import Sequential\n",
    "from keras.layers import Dense\n",
    "from sklearn.model_selection import train_test_split"
   ]
  },
  {
   "cell_type": "code",
   "execution_count": null,
   "id": "d3ab21fe-7ce7-40ce-86ca-4b3a474688b7",
   "metadata": {},
   "outputs": [],
   "source": [
    "#Get the dataset.\n",
    "concrete_data = pd.read_csv('https://s3-api.us-geo.objectstorage.softlayer.net/cf-courses-data/CognitiveClass/DL0101EN/labs/data/concrete_data.csv')\n",
    "#Separate in columns of the dataset.\n",
    "concrete_data_columns = concrete_data.columns"
   ]
  },
  {
   "cell_type": "code",
   "execution_count": null,
   "id": "17c3559c-5bba-4946-b5f7-51469bb916df",
   "metadata": {},
   "outputs": [],
   "source": [
    "#Separate the target variable and the predictors.\n",
    "predictor = concrete_data[concrete_data_columns[concrete_data_columns != 'Strength']]\n",
    "target = concrete_data['Strength']\n",
    "#Normalize the data\n",
    "p_normal = (predictor - predictor.mean()) / predictor.std()\n",
    "#Save the number of predictors.\n",
    "n_cols = p_normal.shape[1]"
   ]
  },
  {
   "cell_type": "code",
   "execution_count": null,
   "id": "ba383ec9-54c9-4aca-b373-d596d951e900",
   "metadata": {},
   "outputs": [],
   "source": [
    "#Defines the model\n",
    "def regression_modelB():\n",
    "    #Creates the model\n",
    "    modelB = Sequential()\n",
    "    modelB.add(Dense(10, activation='relu', input_shape=(n_cols,)))\n",
    "    modelB.add(Dense(1))\n",
    "    #Compile the model\n",
    "    modelB.compile(optimizer='adam', loss='mean_squared_error')\n",
    "    modelB.fit(predictor, target, epochs=50)\n",
    "    return modelB"
   ]
  },
  {
   "cell_type": "code",
   "execution_count": null,
   "id": "cedae235-4276-436d-988e-7066b124b46d",
   "metadata": {},
   "outputs": [],
   "source": [
    "#Creates a list to agroup the Mean Squared Errors\n",
    "list_mse = []\n",
    "modelB = regression_modelB()\n",
    "for i in range(50):\n",
    "    #Split the data in training and testing sets, spliting 30% for testing. \n",
    "    X_train, X_test, y_train, y_test = train_test_split(predictor, target, test_size=0.3)\n",
    "    #Train and test the model\n",
    "    results = modelB.fit(X_train, y_train, epochs=50, verbose=0, validation_data=(X_test, y_test))\n",
    "    #Atribute the results to a variable\n",
    "    mse = results.history['val_loss'][-1]\n",
    "    #Assing the variable to the list\n",
    "    list_mse.append(mse)\n",
    "    #Print the results\n",
    "    print('Epoch Number {}/50\\nMSE Value {}'.format(i+1, mse))\n",
    "    print('The Mean of the MSE: {}'.format(np.mean(list_mse)))\n",
    "    print('The Standart Deviation of the MSE: {}'.format(np.std(list_mse)))"
   ]
  },
  {
   "attachments": {},
   "cell_type": "markdown",
   "id": "60bae47b",
   "metadata": {},
   "source": [
    "How does the mean of the mean squared errors compare to that from Step A?\n",
    "\n",
    "A: In comparison to Step A, the mean of MSE for Step B is a little bit bigger."
   ]
  }
 ],
 "metadata": {
  "kernelspec": {
   "display_name": "Python",
   "language": "python",
   "name": "conda-env-python-py"
  },
  "language_info": {
   "codemirror_mode": {
    "name": "ipython",
    "version": 3
   },
   "file_extension": ".py",
   "mimetype": "text/x-python",
   "name": "python",
   "nbconvert_exporter": "python",
   "pygments_lexer": "ipython3",
   "version": "3.7.12"
  }
 },
 "nbformat": 4,
 "nbformat_minor": 5
}
