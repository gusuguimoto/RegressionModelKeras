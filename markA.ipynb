{
 "cells": [
  {
   "attachments": {},
   "cell_type": "markdown",
   "id": "71d2461c",
   "metadata": {},
   "source": [
    "A. Build a baseline model (5 marks) \n",
    "\n",
    "Use the Keras library to build a neural network with the following:\n",
    "\n",
    "- One hidden layer of 10 nodes, and a ReLU activation function\n",
    "\n",
    "- Use the adam optimizer and the mean squared error  as the loss function.\n",
    "\n",
    "1. Randomly split the data into a training and test sets by holding 30% of the data for testing. You can use the train_test_split helper function from Scikit-learn.\n",
    "\n",
    "2. Train the model on the training data using 50 epochs.\n",
    "\n",
    "3. Evaluate the model on the test data and compute the mean squared error between the predicted concrete strength and the actual concrete strength. You can use the mean_squared_error function from Scikit-learn.\n",
    "\n",
    "4. Repeat steps 1 - 3, 50 times, i.e., create a list of 50 mean squared errors.\n",
    "\n",
    "5. Report the mean and the standard deviation of the mean squared errors."
   ]
  },
  {
   "cell_type": "code",
   "execution_count": null,
   "id": "75ef2dc7-6757-4f31-a668-df178dd8c154",
   "metadata": {},
   "outputs": [],
   "source": [
    "#Importing all the necessary libraries\n",
    "import keras\n",
    "import pandas as pd\n",
    "import numpy as np\n",
    "import sklearn"
   ]
  },
  {
   "cell_type": "code",
   "execution_count": null,
   "id": "fc28ed7a-fdfe-45a8-9f27-b25f92e850fc",
   "metadata": {},
   "outputs": [],
   "source": [
    "#Import the packages from Keras and SciKit-Learn, that will be used in the model.\n",
    "from keras.models import Sequential\n",
    "from keras.layers import Dense\n",
    "from sklearn.model_selection import train_test_split"
   ]
  },
  {
   "cell_type": "code",
   "execution_count": null,
   "id": "f4495d5c-bf11-493c-8cff-500f9e358dd1",
   "metadata": {},
   "outputs": [],
   "source": [
    "#Get the dataset.\n",
    "concrete_data = pd.read_csv('https://s3-api.us-geo.objectstorage.softlayer.net/cf-courses-data/CognitiveClass/DL0101EN/labs/data/concrete_data.csv')\n",
    "#Separate in columns of the dataset.\n",
    "concrete_data_columns = concrete_data.columns"
   ]
  },
  {
   "cell_type": "code",
   "execution_count": null,
   "id": "a0d73bed-d7d4-4078-9370-75cf0993b58a",
   "metadata": {},
   "outputs": [],
   "source": [
    "#Separate the target variable and the predictors and save the number of predictors.\n",
    "predictor = concrete_data[concrete_data_columns[concrete_data_columns != 'Strength']]\n",
    "target = concrete_data['Strength']\n",
    "n_cols = predictor.shape[1]"
   ]
  },
  {
   "cell_type": "code",
   "execution_count": null,
   "id": "c2ec6593-63ef-4d03-a187-fb14b281b5f1",
   "metadata": {},
   "outputs": [],
   "source": [
    "#Defines the model\n",
    "def regression_modelA():\n",
    "    #Creates the model\n",
    "    modelA = Sequential()\n",
    "    modelA.add(Dense(10, activation='relu', input_shape=(n_cols,)))\n",
    "    modelA.add(Dense(1))\n",
    "    #Compile the model\n",
    "    modelA.compile(optimizer='adam', loss='mean_squared_error')\n",
    "    modelA.fit(predictor, target, epochs=50)\n",
    "    return modelA"
   ]
  },
  {
   "cell_type": "code",
   "execution_count": null,
   "id": "2e90cce8-2554-47fa-82f0-19379c9b8540",
   "metadata": {},
   "outputs": [],
   "source": [
    "#Creates a list to agroup the Mean Squared Errors\n",
    "list_mse = []\n",
    "modelA = regression_modelA()\n",
    "for i in range(50):\n",
    "    #Split the data in training and testing sets, spliting 30% for testing. \n",
    "    X_train, X_test, y_train, y_test = train_test_split(predictor, target, test_size=0.3)\n",
    "    #Train and test the model\n",
    "    results = modelA.fit(X_train, y_train, epochs=50, verbose=0, validation_data=(X_test, y_test))\n",
    "    #Atribute the results to a variable\n",
    "    mse = results.history['val_loss'][-1]\n",
    "    #Assing the variable to the list\n",
    "    list_mse.append(mse)\n",
    "    #Print the results\n",
    "    print('Epoch Number {}/50:\\nMSE Value {}'.format(i+1, mse))\n",
    "    print('Mean of the MSE: {}'.format(np.mean(list_mse)))\n",
    "    print('Standart Deviation of the MSE: {}'.format(np.std(list_mse)))"
   ]
  }
 ],
 "metadata": {
  "kernelspec": {
   "display_name": "Python",
   "language": "python",
   "name": "conda-env-python-py"
  },
  "language_info": {
   "codemirror_mode": {
    "name": "ipython",
    "version": 3
   },
   "file_extension": ".py",
   "mimetype": "text/x-python",
   "name": "python",
   "nbconvert_exporter": "python",
   "pygments_lexer": "ipython3",
   "version": "3.7.12"
  }
 },
 "nbformat": 4,
 "nbformat_minor": 5
}
