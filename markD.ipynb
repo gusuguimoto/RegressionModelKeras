{
 "cells": [
  {
   "attachments": {},
   "cell_type": "markdown",
   "id": "b561c66c",
   "metadata": {},
   "source": [
    "D. Increase the number of hidden layers (5 marks)\n",
    "\n",
    "Repeat part B but use a neural network with the following instead:\n",
    "\n",
    "-Three hidden layers, each of 10 nodes and ReLU activation function.\n"
   ]
  },
  {
   "cell_type": "code",
   "execution_count": null,
   "id": "00f16dcc-430c-45c0-8ebe-d59eae8a16ae",
   "metadata": {},
   "outputs": [],
   "source": [
    "#Importing all the necessary libraries\n",
    "import keras\n",
    "import pandas as pd\n",
    "import numpy as np\n",
    "import sklearn"
   ]
  },
  {
   "cell_type": "code",
   "execution_count": null,
   "id": "63275784-aaa7-4a1c-93e0-4985c8baa42b",
   "metadata": {},
   "outputs": [],
   "source": [
    "#Import the packages from Keras and SciKit-Learn, that will be used in the model.\n",
    "from keras.models import Sequential\n",
    "from keras.layers import Dense\n",
    "from sklearn.model_selection import train_test_split"
   ]
  },
  {
   "cell_type": "code",
   "execution_count": null,
   "id": "6e8e4ca2-9956-4d70-9231-b2cd722376b5",
   "metadata": {},
   "outputs": [],
   "source": [
    "#Get the dataset.\n",
    "concrete_data = pd.read_csv('https://s3-api.us-geo.objectstorage.softlayer.net/cf-courses-data/CognitiveClass/DL0101EN/labs/data/concrete_data.csv')\n",
    "#Separate in columns of the dataset.\n",
    "concrete_data_columns = concrete_data.columns"
   ]
  },
  {
   "cell_type": "code",
   "execution_count": null,
   "id": "a3ec0c90-164b-48a9-9731-1835b6c2582d",
   "metadata": {},
   "outputs": [],
   "source": [
    "#Separate the target variable and the predictors.\n",
    "predictor = concrete_data[concrete_data_columns[concrete_data_columns != 'Strength']]\n",
    "target = concrete_data['Strength']\n",
    "#Normalize the data\n",
    "p_normal = (predictor - predictor.mean()) / predictor.std()\n",
    "#Save the number of predictors.\n",
    "n_cols = p_normal.shape[1]"
   ]
  },
  {
   "cell_type": "code",
   "execution_count": null,
   "id": "dbc34a6c-7913-4857-a48c-94c9301409cd",
   "metadata": {},
   "outputs": [],
   "source": [
    "#Defines the model\n",
    "def regression_modelD():\n",
    "    #Creates the model\n",
    "    modelD = Sequential()\n",
    "    #Creates 3 hidden layers\n",
    "    modelD.add(Dense(10, activation='relu', input_shape=(n_cols,)))\n",
    "    modelD.add(Dense(10, activation='relu'))\n",
    "    modelD.add(Dense(10, activation='relu'))\n",
    "    modelD.add(Dense(1))\n",
    "    #Compile the model\n",
    "    modelD.compile(optimizer='adam', loss='mean_squared_error')\n",
    "    modelD.fit(predictor, target, epochs=100)\n",
    "    return modelD"
   ]
  },
  {
   "cell_type": "code",
   "execution_count": null,
   "id": "a09d102d-18c2-4bf1-8a1d-bcd98309881a",
   "metadata": {},
   "outputs": [],
   "source": [
    "#Creates a list to agroup the Mean Squared Errors\n",
    "list_mse = []\n",
    "modelD = regression_modelD()\n",
    "for i in range(100):\n",
    "    #Split the data in training and testing sets, spliting 30% for testing. \n",
    "    X_train, X_test, y_train, y_test = train_test_split(predictor, target, test_size=0.3)\n",
    "    #Train and test the model, continuing using 100 instead of 50 epochs\n",
    "    results = modelD.fit(X_train, y_train, epochs=100, verbose=0, validation_data=(X_test, y_test))\n",
    "    #Atribute the results to a variable\n",
    "    mse = results.history['val_loss'][-1]\n",
    "    #Assing the variable to the list\n",
    "    list_mse.append(mse)\n",
    "    #Print the list and the results\n",
    "    print('Epoch Number {}/100\\nMSE Value {}'.format(i+1, mse))\n",
    "    print('The Mean of the MSE: {}'.format(np.mean(list_mse)))\n",
    "    print('The Standart Deviation of the MSE: {}'.format(np.std(list_mse)))"
   ]
  },
  {
   "attachments": {},
   "cell_type": "markdown",
   "id": "cf53193d",
   "metadata": {},
   "source": [
    "How does the mean of the mean squared errors compare to that from Step B?\n",
    "\n",
    "A: In comparison to Step B, the mean of MSE for Step D is a little more than half of the mean of MSE for Step B"
   ]
  }
 ],
 "metadata": {
  "kernelspec": {
   "display_name": "Python",
   "language": "python",
   "name": "conda-env-python-py"
  },
  "language_info": {
   "codemirror_mode": {
    "name": "ipython",
    "version": 3
   },
   "file_extension": ".py",
   "mimetype": "text/x-python",
   "name": "python",
   "nbconvert_exporter": "python",
   "pygments_lexer": "ipython3",
   "version": "3.7.12"
  }
 },
 "nbformat": 4,
 "nbformat_minor": 5
}
